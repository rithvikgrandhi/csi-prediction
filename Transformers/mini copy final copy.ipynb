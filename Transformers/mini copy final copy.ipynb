{
 "cells": [
  {
   "cell_type": "code",
   "execution_count": 1,
   "metadata": {},
   "outputs": [],
   "source": [
    "import numpy as np\n",
    "df=np.load(\"/Users/rohitviswam/Downloads/CSI-02-0005/H_32T4R_30_1RB.npy\")\n",
    "data=df.reshape(2100,398,256) #dimension reduction\n",
    "data.shape\n",
    "feature_len=data.shape[-1]"
   ]
  },
  {
   "cell_type": "code",
   "execution_count": 2,
   "metadata": {},
   "outputs": [],
   "source": [
    "# Part 1: Import Libraries\n",
    "import torch\n",
    "import torch.nn as nn\n",
    "import torch.nn.functional as F\n",
    "import math"
   ]
  },
  {
   "cell_type": "code",
   "execution_count": 3,
   "metadata": {},
   "outputs": [],
   "source": [
    "\n",
    "# transformer network is permutationally invariant: the order of the words doesnt matter so we add a positional encoder\n",
    "\n",
    "class PositionalEncoder(nn.Module):\n",
    "    def __init__(self, d_model, max_len=500):\n",
    "        super(PositionalEncoder, self).__init__()\n",
    "        self.d_model = d_model\n",
    "        pe = torch.zeros(max_len, d_model)\n",
    "        position = torch.arange(0, max_len, dtype=torch.float).unsqueeze(1)\n",
    "        div_term = torch.exp(torch.arange(0, d_model, 2).float() * -(math.log(10000.0) / d_model))\n",
    "        pe[:, 0::2] = torch.sin(position * div_term)\n",
    "        pe[:, 1::2] = torch.cos(position * div_term)\n",
    "        pe = pe.unsqueeze(0)\n",
    "        self.register_buffer('pe', pe)\n",
    "\n",
    "    def forward(self, x):\n",
    "        # Make sure x and pe are on the same device\n",
    "        pe = self.pe[:, :x.size(1)].to(x.device)  # Ensure pe is on the same device as x\n",
    "        return x + pe\n"
   ]
  },
  {
   "cell_type": "code",
   "execution_count": 4,
   "metadata": {},
   "outputs": [],
   "source": [
    "# Part 3: Transformer Block\n",
    "class TransformerBlock(nn.Module):\n",
    "    def __init__(self, dim, heads, dropout=0.1):\n",
    "        super(TransformerBlock, self).__init__()\n",
    "        self.attention = nn.MultiheadAttention(embed_dim=dim, num_heads=heads, dropout=dropout)\n",
    "        self.feed_forward = nn.Sequential(\n",
    "            nn.Linear(dim, 2 * dim),\n",
    "            nn.ReLU(),\n",
    "            nn.Linear(2 * dim, dim)\n",
    "        )\n",
    "        self.norm1 = nn.LayerNorm(dim)\n",
    "        self.norm2 = nn.LayerNorm(dim)\n",
    "        self.dropout = nn.Dropout(dropout)\n",
    "\n",
    "    def forward(self, x):\n",
    "        x = x + self.dropout(self.attention(x, x, x)[0])\n",
    "        x = self.norm1(x)\n",
    "        x = x + self.dropout(self.feed_forward(x))\n",
    "        x = self.norm2(x)\n",
    "        return x\n"
   ]
  },
  {
   "cell_type": "code",
   "execution_count": 5,
   "metadata": {},
   "outputs": [],
   "source": [
    "# Part 4: Mini Transformer Model\n",
    "class MiniTransformer(nn.Module):\n",
    "    def __init__(self, feature_size, num_layers, heads, dropout=0.1):\n",
    "        super(MiniTransformer, self).__init__()\n",
    "        self.positional_encoder = PositionalEncoder(feature_size)\n",
    "        self.transformer_blocks = nn.ModuleList([\n",
    "            TransformerBlock(feature_size, heads, dropout) for _ in range(num_layers)\n",
    "        ])\n",
    "        self.output_layer = nn.Linear(feature_size, feature_size)  # Predicting the next timestep\n",
    "\n",
    "    def forward(self, x):\n",
    "        x = self.positional_encoder(x)\n",
    "        for block in self.transformer_blocks:\n",
    "            x = block(x)\n",
    "        x = self.output_layer(x)\n",
    "        return x"
   ]
  },
  {
   "cell_type": "code",
   "execution_count": 6,
   "metadata": {},
   "outputs": [],
   "source": [
    "\n",
    "data_tensor = torch.tensor(data, dtype=torch.float32)\n",
    "\n",
    "from torch.utils.data import random_split, DataLoader, TensorDataset\n",
    "\n",
    "# Assuming data_tensor is already defined\n",
    "total_samples = len(data_tensor)\n",
    "# total_samples = len(data_tensor)\n",
    "\n",
    "\n",
    "train_size = int(0.7 * total_samples)  # 70% for training\n",
    "valid_size = int(0.15 * total_samples)  # 15% for validation\n",
    "test_size = total_samples - train_size - valid_size  # Remaining 15% for testing\n",
    "\n",
    "# Split the data into train, validation, and test sets\n",
    "train_data, val_data, test_data = random_split(data_tensor, [train_size, valid_size, test_size])\n",
    "\n",
    "# Now wrap these in TensorDataset (if needed) - only necessary if you're pairing with labels or need specific handling\n",
    "train_dataset = TensorDataset(train_data.dataset[train_data.indices])\n",
    "val_dataset = TensorDataset(val_data.dataset[val_data.indices])\n",
    "test_dataset = TensorDataset(test_data.dataset[test_data.indices])\n"
   ]
  },
  {
   "cell_type": "code",
   "execution_count": 7,
   "metadata": {},
   "outputs": [],
   "source": [
    "# Create Data Loaders for each set\n",
    "# batch_size = data.shape[0]  # Define the batch size you'd like to use\n",
    "batch_size=64\n",
    "train_loader = DataLoader(train_dataset, batch_size=batch_size, shuffle=True)\n",
    "val_loader = DataLoader(val_dataset, batch_size=batch_size, shuffle=False)\n",
    "test_loader = DataLoader(test_dataset, batch_size=batch_size, shuffle=False)\n"
   ]
  },
  {
   "cell_type": "code",
   "execution_count": 8,
   "metadata": {},
   "outputs": [
    {
     "data": {
      "text/plain": [
       "(1470, 315, 315)"
      ]
     },
     "execution_count": 8,
     "metadata": {},
     "output_type": "execute_result"
    }
   ],
   "source": [
    "len(train_dataset),len(test_dataset),len(val_dataset)"
   ]
  },
  {
   "cell_type": "code",
   "execution_count": 23,
   "metadata": {},
   "outputs": [
    {
     "name": "stderr",
     "output_type": "stream",
     "text": [
      "/Library/Frameworks/Python.framework/Versions/3.11/lib/python3.11/site-packages/torch/cuda/amp/grad_scaler.py:126: UserWarning: torch.cuda.amp.GradScaler is enabled, but CUDA is not available.  Disabling.\n",
      "  warnings.warn(\n",
      "/Library/Frameworks/Python.framework/Versions/3.11/lib/python3.11/site-packages/torch/amp/autocast_mode.py:250: UserWarning: User provided device_type of 'cuda', but CUDA is not available. Disabling\n",
      "  warnings.warn(\n"
     ]
    },
    {
     "name": "stdout",
     "output_type": "stream",
     "text": [
      "Epoch 1, Validation Loss: 0.4634\n",
      "Epoch 2, Validation Loss: 0.2432\n",
      "Epoch 3, Validation Loss: 0.1337\n",
      "Epoch 4, Validation Loss: 0.0960\n",
      "Epoch 5, Validation Loss: 0.0765\n",
      "Epoch 6, Validation Loss: 0.0647\n",
      "Epoch 7, Validation Loss: 0.0556\n",
      "Epoch 8, Validation Loss: 0.0497\n",
      "Epoch 9, Validation Loss: 0.0451\n",
      "Epoch 10, Validation Loss: 0.0415\n",
      "Epoch 11, Validation Loss: 0.0380\n",
      "Epoch 12, Validation Loss: 0.0366\n",
      "Epoch 13, Validation Loss: 0.0340\n",
      "Epoch 14, Validation Loss: 0.0316\n",
      "Epoch 15, Validation Loss: 0.0317\n",
      "Epoch 16, Validation Loss: 0.0281\n",
      "Epoch 17, Validation Loss: 0.0267\n",
      "Epoch 18, Validation Loss: 0.0263\n",
      "Epoch 19, Validation Loss: 0.0247\n",
      "Epoch 20, Validation Loss: 0.0235\n",
      "Epoch 21, Validation Loss: 0.0223\n",
      "Epoch 22, Validation Loss: 0.0214\n",
      "Epoch 23, Validation Loss: 0.0204\n",
      "Epoch 24, Validation Loss: 0.0208\n",
      "Epoch 25, Validation Loss: 0.0195\n",
      "Epoch 26, Validation Loss: 0.0185\n",
      "Epoch 27, Validation Loss: 0.0187\n",
      "Epoch 28, Validation Loss: 0.0173\n",
      "Epoch 29, Validation Loss: 0.0167\n",
      "Epoch 30, Validation Loss: 0.0168\n",
      "Epoch 31, Validation Loss: 0.0166\n",
      "Epoch 32, Validation Loss: 0.0152\n",
      "Epoch 33, Validation Loss: 0.0150\n",
      "Epoch 34, Validation Loss: 0.0150\n",
      "Epoch 35, Validation Loss: 0.0142\n",
      "Epoch 36, Validation Loss: 0.0138\n",
      "Epoch 37, Validation Loss: 0.0137\n",
      "Epoch 38, Validation Loss: 0.0131\n",
      "Epoch 39, Validation Loss: 0.0130\n",
      "Epoch 40, Validation Loss: 0.0133\n",
      "Epoch 41, Validation Loss: 0.0123\n",
      "Epoch 42, Validation Loss: 0.0125\n",
      "Epoch 43, Validation Loss: 0.0119\n",
      "Epoch 44, Validation Loss: 0.0117\n",
      "Epoch 45, Validation Loss: 0.0118\n",
      "Epoch 46, Validation Loss: 0.0113\n",
      "Epoch 47, Validation Loss: 0.0114\n",
      "Epoch 48, Validation Loss: 0.0112\n",
      "Epoch 49, Validation Loss: 0.0109\n",
      "Epoch 50, Validation Loss: 0.0107\n"
     ]
    }
   ],
   "source": [
    "from torch.cuda.amp import GradScaler, autocast\n",
    "\n",
    "# Initialize your model, optimizer, and loss function\n",
    "model = MiniTransformer(feature_size=feature_len, num_layers=2, heads=8, dropout=0.1)\n",
    "# model.cuda()  # Move model to GPU\n",
    "\n",
    "optimizer = torch.optim.Adam(model.parameters(), lr=0.001)\n",
    "criterion = torch.nn.MSELoss()\n",
    "\n",
    "# Initialize the scaler for mixed precision\n",
    "scaler = GradScaler()\n",
    "\n",
    "# Training loop\n",
    "num_epochs = 50\n",
    "for epoch in range(num_epochs):\n",
    "    model.train()\n",
    "    for inputs in train_loader:\n",
    "        inputs = inputs[0]  # Ensure data is on the GPU\n",
    "\n",
    "\n",
    "        optimizer.zero_grad()\n",
    "\n",
    "        # Run forward pass in mixed precision\n",
    "        with autocast():\n",
    "            outputs = model(inputs)\n",
    "            loss = criterion(outputs, inputs)\n",
    "\n",
    "        # Scales loss. Calls backward() on scaled loss to create scaled gradients.\n",
    "        scaler.scale(loss).backward()\n",
    "        # scaler.step() first unscales the gradients of the optimizer's assigned params.\n",
    "\n",
    "        # If these gradients do not contain infs or NaNs, optimizer.step() is then called,\n",
    "        # otherwise, optimizer.step() is skipped.\n",
    "        scaler.step(optimizer)\n",
    "\n",
    "        # Updates the scale for next iteration.\n",
    "        scaler.update()\n",
    "\n",
    "    # Evaluate on validation data\n",
    "    model.eval()\n",
    "    val_loss = 0\n",
    "    with torch.no_grad():\n",
    "        for inputs in val_loader:\n",
    "            inputs = inputs[0]\n",
    "            with autocast():\n",
    "                outputs = model(inputs)\n",
    "                val_loss += criterion(outputs, inputs).item()\n",
    "    val_loss /= len(val_loader)\n",
    "    print(f'Epoch {epoch + 1}, Validation Loss: {val_loss:.4f}')"
   ]
  },
  {
   "cell_type": "code",
   "execution_count": 24,
   "metadata": {},
   "outputs": [
    {
     "name": "stdout",
     "output_type": "stream",
     "text": [
      "Test MSE: 0.0104\n"
     ]
    }
   ],
   "source": [
    "from torch.nn.functional import mse_loss\n",
    "from math import sqrt\n",
    "\n",
    "device = torch.device(\"cuda\" if torch.cuda.is_available() else \"cpu\")\n",
    "model.to(device)  # Ensure the model is on the correct device\n",
    "\n",
    "# Test loop\n",
    "model.eval()\n",
    "test_loss = 0\n",
    "with torch.no_grad():\n",
    "    for inputs in test_loader:\n",
    "        \n",
    "        inputs = inputs[0].to(device)  # Move inputs to the same device as the model\n",
    "        outputs = model(inputs)\n",
    "        test_loss += mse_loss(outputs, inputs).item()\n",
    "\n",
    "test_loss /= len(test_loader)\n",
    "print(f'Test MSE: {test_loss:.4f}')\n"
   ]
  },
  {
   "cell_type": "code",
   "execution_count": 25,
   "metadata": {},
   "outputs": [
    {
     "name": "stdout",
     "output_type": "stream",
     "text": [
      "MiniTransformer(\n",
      "  (positional_encoder): PositionalEncoder()\n",
      "  (transformer_blocks): ModuleList(\n",
      "    (0-1): 2 x TransformerBlock(\n",
      "      (attention): MultiheadAttention(\n",
      "        (out_proj): NonDynamicallyQuantizableLinear(in_features=256, out_features=256, bias=True)\n",
      "      )\n",
      "      (feed_forward): Sequential(\n",
      "        (0): Linear(in_features=256, out_features=512, bias=True)\n",
      "        (1): ReLU()\n",
      "        (2): Linear(in_features=512, out_features=256, bias=True)\n",
      "      )\n",
      "      (norm1): LayerNorm((256,), eps=1e-05, elementwise_affine=True)\n",
      "      (norm2): LayerNorm((256,), eps=1e-05, elementwise_affine=True)\n",
      "      (dropout): Dropout(p=0.1, inplace=False)\n",
      "    )\n",
      "  )\n",
      "  (output_layer): Linear(in_features=256, out_features=256, bias=True)\n",
      ")\n"
     ]
    }
   ],
   "source": [
    "import torch.nn.utils.prune as prune\n",
    "\n",
    "# Define a simple pruning function that prunes the 'weight' parameter in each linear layer by 20%\n",
    "def prune_model_custom(model, amount=0):\n",
    "    for module in model.modules():\n",
    "        if isinstance(module, torch.nn.Linear):\n",
    "            prune.l1_unstructured(module, name=\"weight\", amount=amount)\n",
    "\n",
    "# Apply pruning\n",
    "prune_model_custom(model)\n",
    "\n",
    "# Check model to see the effect of pruning\n",
    "print(model)"
   ]
  },
  {
   "cell_type": "code",
   "execution_count": 28,
   "metadata": {},
   "outputs": [
    {
     "name": "stdout",
     "output_type": "stream",
     "text": [
      "cpu\n"
     ]
    },
    {
     "data": {
      "image/png": "[encoded data removed]",
      "text/plain": [
       "<Figure size 1500x400 with 1 Axes>"
      ]
     },
     "metadata": {},
     "output_type": "display_data"
    }
   ],
   "source": [
    "import matplotlib.pyplot as plt\n",
    "import torch\n",
    "\n",
    "device = torch.device(\"cuda\" if torch.cuda.is_available() else \"cpu\")\n",
    "print(device)\n",
    "model.to(device)  # Ensure the model is on the correct device\n",
    "model.eval()\n",
    "\n",
    "feature_index = 254\n",
    "ue_num=60\n",
    "\n",
    "with torch.no_grad():\n",
    "    # cnt=0\n",
    "    for inputs in test_loader:\n",
    "        # print(cnt)\n",
    "        inputs = inputs[0].to(device)  # Ensure inputs are moved to the device\n",
    "\n",
    "        outputs = model(inputs)\n",
    "        inputs = inputs.cpu()\n",
    "        outputs = outputs.cpu()\n",
    "\n",
    "        plt.figure(figsize=(15, 4))\n",
    "        plt.plot(inputs[ue_num, :, feature_index].numpy()[:], label='Actual')  # inputs for first example, all time steps, specific feature\n",
    "        plt.plot(outputs[ue_num, :, feature_index].numpy(), label='Predicted')  # outputs for first example, all time steps, specific feature\n",
    "        plt.title('Comparison of Actual and Predicted Values Across Time Steps')\n",
    "        plt.xlabel('Time Steps')\n",
    "        plt.ylabel('Feature Value')\n",
    "        plt.legend()\n",
    "        plt.show()\n",
    "        # cnt+=1\n",
    "        break  # Only display the first batch"
   ]
  },
  {
   "cell_type": "code",
   "execution_count": 30,
   "metadata": {},
   "outputs": [
    {
     "data": {
      "text/plain": [
       "tensor([[[-0.2354, -0.6110,  0.4540,  ...,  1.0001,  0.4439,  0.4069],\n",
       "         [ 0.2112,  0.1182,  0.6357,  ...,  1.6037, -0.3774,  1.2556],\n",
       "         [-0.2327,  0.2712,  0.4772,  ...,  0.8345, -1.3137,  0.8240],\n",
       "         ...,\n",
       "         [-0.2148,  0.1067, -0.6705,  ..., -0.0293,  0.1537,  1.2686],\n",
       "         [-1.2298,  0.0240, -0.8516,  ..., -0.1233, -0.6012,  0.3796],\n",
       "         [-1.5307, -0.2431,  0.5304,  ...,  0.7357, -0.9749, -0.5900]],\n",
       "\n",
       "        [[-0.8779,  0.6249,  0.6945,  ...,  0.9579, -0.1454, -0.9217],\n",
       "         [-0.2342,  1.0891,  0.0447,  ...,  0.7743, -0.7705, -0.5511],\n",
       "         [ 0.5507,  1.0305, -0.5869,  ...,  0.2017, -1.0281,  0.0564],\n",
       "         ...,\n",
       "         [ 0.8911, -0.1880, -1.0720,  ..., -0.5822, -0.2674,  0.8517],\n",
       "         [ 0.7763, -0.7138, -0.5409,  ..., -0.7637,  0.5087,  0.8769],\n",
       "         [ 0.2093, -0.9276,  0.3263,  ..., -0.5487,  1.0439,  0.4237]],\n",
       "\n",
       "        [[ 0.4295,  0.5312,  1.1548,  ..., -1.1735, -0.9466, -0.0371],\n",
       "         [ 0.7699,  0.1034,  0.8581,  ..., -0.7682, -0.6025,  0.1536],\n",
       "         [ 0.8738, -0.0608,  0.4327,  ..., -0.4025, -0.3199,  0.3122],\n",
       "         ...,\n",
       "         [ 0.6363,  0.4902,  0.6066,  ..., -0.9233, -0.7356,  0.0186],\n",
       "         [ 1.1062, -0.0875, -0.3176,  ..., -0.8589, -0.7474,  0.1137],\n",
       "         [ 1.2152, -0.5005, -0.8515,  ..., -0.6338, -0.6682,  0.3555]],\n",
       "\n",
       "        ...,\n",
       "\n",
       "        [[ 0.4036, -0.0113, -0.1343,  ...,  0.8779,  0.8428, -0.7013],\n",
       "         [ 0.8969,  0.5976, -0.4560,  ...,  0.4146,  1.5317, -0.7833],\n",
       "         [ 0.9201,  1.1078, -0.3435,  ..., -0.0574,  1.7364, -0.0660],\n",
       "         ...,\n",
       "         [ 0.1493, -0.7521,  0.0841,  ...,  0.4983, -0.3530, -0.3279],\n",
       "         [ 0.3905, -0.3238, -0.4459,  ...,  0.3181,  0.3748, -0.2993],\n",
       "         [ 0.7466,  0.1893, -0.9830,  ...,  0.3505,  0.9658,  0.3797]],\n",
       "\n",
       "        [[ 0.0148,  0.0529, -0.2653,  ..., -0.0566, -0.8747,  0.8215],\n",
       "         [ 0.1305, -1.0882, -0.5082,  ..., -0.4044, -0.4138, -0.0787],\n",
       "         [ 0.6041, -0.5983,  0.1376,  ..., -0.1659,  0.6674, -0.5621],\n",
       "         ...,\n",
       "         [-1.0568, -0.5311, -0.0799,  ...,  0.2559,  0.6140,  0.8660],\n",
       "         [-0.9429, -0.0768, -0.0608,  ...,  0.0558,  0.4195,  0.8883],\n",
       "         [ 0.5706, -0.0572,  0.7146,  ..., -0.8389, -1.0214,  0.2377]],\n",
       "\n",
       "        [[ 0.5029,  0.9983, -0.7902,  ...,  0.2332,  0.9317, -0.5538],\n",
       "         [ 0.4580,  1.0311, -0.6665,  ...,  0.0799,  0.9740, -0.4344],\n",
       "         [ 0.3804,  1.0859, -0.5765,  ..., -0.0819,  1.0212, -0.2959],\n",
       "         ...,\n",
       "         [-0.4581, -0.8684,  0.8448,  ..., -0.1422, -0.7827,  0.3568],\n",
       "         [-0.3391, -0.8426,  0.7821,  ...,  0.0024, -0.8311,  0.2803],\n",
       "         [-0.2275, -0.8935,  0.7253,  ...,  0.1293, -0.8865,  0.1583]]])"
      ]
     },
     "execution_count": 30,
     "metadata": {},
     "output_type": "execute_result"
    }
   ],
   "source": [
    "outputs"
   ]
  },
  {
   "cell_type": "code",
   "execution_count": 31,
   "metadata": {},
   "outputs": [
    {
     "data": {
      "text/plain": [
       "tensor([[[-3.5656e-01, -6.7390e-01,  1.4016e-01,  ...,  1.1827e+00,\n",
       "           4.8782e-01,  6.2968e-01],\n",
       "         [-1.1989e-02, -6.8382e-02,  3.8016e-01,  ...,  1.8382e+00,\n",
       "          -4.7238e-01,  1.5111e+00],\n",
       "         [-3.1659e-01,  5.6020e-02,  3.6291e-01,  ...,  9.7887e-01,\n",
       "          -1.3292e+00,  9.9354e-01],\n",
       "         ...,\n",
       "         [-2.7126e-01,  2.0730e-01, -7.2545e-01,  ..., -1.5543e-01,\n",
       "           4.7557e-02,  1.3454e+00],\n",
       "         [-1.5052e+00,  1.4049e-01, -1.0365e+00,  ...,  2.3622e-02,\n",
       "          -7.5102e-01,  6.2293e-01],\n",
       "         [-1.8092e+00, -2.4217e-01,  6.7031e-01,  ...,  9.5989e-01,\n",
       "          -1.0549e+00, -4.3590e-01]],\n",
       "\n",
       "        [[-9.8299e-01,  6.1236e-01,  7.6800e-01,  ...,  9.2767e-01,\n",
       "          -2.0727e-01, -8.9184e-01],\n",
       "         [-3.7564e-01,  1.0127e+00, -8.7664e-04,  ...,  7.2448e-01,\n",
       "          -8.5486e-01, -5.3837e-01],\n",
       "         [ 4.4294e-01,  9.8099e-01, -7.1329e-01,  ...,  1.7235e-01,\n",
       "          -1.0830e+00,  5.1801e-02],\n",
       "         ...,\n",
       "         [ 8.8921e-01, -1.0842e-01, -1.1783e+00,  ..., -5.3684e-01,\n",
       "          -2.3902e-01,  7.8498e-01],\n",
       "         [ 8.6670e-01, -7.0253e-01, -7.2645e-01,  ..., -7.8511e-01,\n",
       "           5.2228e-01,  8.0512e-01],\n",
       "         [ 3.5660e-01, -9.4987e-01,  1.2625e-01,  ..., -5.7590e-01,\n",
       "           9.9565e-01,  3.7945e-01]],\n",
       "\n",
       "        [[ 3.4737e-01,  4.1538e-01,  1.2648e+00,  ..., -1.2162e+00,\n",
       "          -1.0008e+00,  2.2677e-02],\n",
       "         [ 6.3496e-01,  4.6962e-02,  9.3849e-01,  ..., -8.7442e-01,\n",
       "          -6.1618e-01,  1.9198e-01],\n",
       "         [ 7.2834e-01, -1.6381e-01,  3.6192e-01,  ..., -4.2658e-01,\n",
       "          -3.0216e-01,  3.1694e-01],\n",
       "         ...,\n",
       "         [ 6.2926e-01,  3.8825e-01,  4.7088e-01,  ..., -9.2942e-01,\n",
       "          -7.7033e-01, -1.2481e-02],\n",
       "         [ 1.2101e+00, -2.9067e-01, -5.7864e-01,  ..., -9.3300e-01,\n",
       "          -8.0801e-01,  1.2346e-01],\n",
       "         [ 1.3147e+00, -4.9988e-01, -9.9448e-01,  ..., -6.8137e-01,\n",
       "          -7.0971e-01,  3.8638e-01]],\n",
       "\n",
       "        ...,\n",
       "\n",
       "        [[ 4.2594e-01,  1.2051e-01, -2.8732e-01,  ...,  6.8968e-01,\n",
       "           8.5526e-01, -7.4928e-01],\n",
       "         [ 9.0507e-01,  8.0682e-01, -7.5672e-01,  ...,  3.2618e-01,\n",
       "           1.6812e+00, -7.8286e-01],\n",
       "         [ 8.0273e-01,  1.4164e+00, -7.8464e-01,  ..., -1.0708e-01,\n",
       "           1.9519e+00,  9.0951e-02],\n",
       "         ...,\n",
       "         [-6.8635e-02, -6.5122e-01,  8.2182e-02,  ...,  3.8528e-01,\n",
       "          -2.3312e-01, -3.3773e-01],\n",
       "         [ 1.9559e-01, -2.9288e-01, -3.2186e-01,  ...,  1.4486e-01,\n",
       "           3.3615e-01, -3.0105e-01],\n",
       "         [ 5.1437e-01,  1.0501e-01, -7.4371e-01,  ...,  2.3239e-01,\n",
       "           8.1479e-01,  3.6741e-01]],\n",
       "\n",
       "        [[ 1.5968e-02,  2.9053e-02, -1.5911e-01,  ..., -1.0208e-01,\n",
       "          -1.0716e+00,  6.8168e-01],\n",
       "         [ 1.3808e-01, -1.0545e+00, -6.9720e-01,  ..., -4.6993e-01,\n",
       "          -5.5338e-01, -2.2985e-01],\n",
       "         [ 3.6824e-01, -4.5654e-01, -1.0484e-01,  ..., -1.7521e-01,\n",
       "           8.1823e-01, -5.2072e-01],\n",
       "         ...,\n",
       "         [-1.7295e+00, -4.0649e-01, -7.3441e-02,  ...,  3.5408e-01,\n",
       "           5.2890e-01,  1.1735e+00],\n",
       "         [-1.3371e+00, -2.9219e-01,  3.2973e-01,  ..., -2.5132e-01,\n",
       "           3.1927e-01,  7.6727e-01],\n",
       "         [ 4.4809e-01, -3.3215e-01,  1.3255e+00,  ..., -1.0893e+00,\n",
       "          -1.1643e+00,  9.7066e-02]],\n",
       "\n",
       "        [[ 5.2466e-01,  9.9603e-01, -8.1875e-01,  ...,  1.6945e-01,\n",
       "           8.7852e-01, -5.7091e-01],\n",
       "         [ 4.0879e-01,  1.0475e+00, -7.4132e-01,  ...,  3.1634e-02,\n",
       "           9.4372e-01, -4.5604e-01],\n",
       "         [ 2.8997e-01,  1.0814e+00, -6.5572e-01,  ..., -9.8722e-02,\n",
       "           9.9369e-01, -3.0818e-01],\n",
       "         ...,\n",
       "         [-5.1642e-01, -9.2161e-01,  7.8962e-01,  ..., -1.2066e-01,\n",
       "          -8.5431e-01,  4.1430e-01],\n",
       "         [-4.1309e-01, -9.6651e-01,  6.9749e-01,  ...,  1.1108e-03,\n",
       "          -8.9101e-01,  3.1972e-01],\n",
       "         [-3.0768e-01, -9.8697e-01,  6.1887e-01,  ...,  1.2676e-01,\n",
       "          -9.2922e-01,  2.3240e-01]]])"
      ]
     },
     "execution_count": 31,
     "metadata": {},
     "output_type": "execute_result"
    }
   ],
   "source": [
    "inputs"
   ]
  },
  {
   "cell_type": "code",
   "execution_count": null,
   "metadata": {},
   "outputs": [],
   "source": []
  }
 ],
 "metadata": {
  "kernelspec": {
   "display_name": "base",
   "language": "python",
   "name": "python3"
  },
  "language_info": {
   "codemirror_mode": {
    "name": "ipython",
    "version": 3
   },
   "file_extension": ".py",
   "mimetype": "text/x-python",
   "name": "python",
   "nbconvert_exporter": "python",
   "pygments_lexer": "ipython3",
   "version": "3.11.3"
  }
 },
 "nbformat": 4,
 "nbformat_minor": 2
}
