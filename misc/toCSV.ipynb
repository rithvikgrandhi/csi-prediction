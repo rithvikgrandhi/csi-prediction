{
 "cells": [
  {
   "cell_type": "code",
   "execution_count": 2,
   "metadata": {},
   "outputs": [
    {
     "data": {
      "text/plain": [
       "(50, 1000, 832)"
      ]
     },
     "execution_count": 2,
     "metadata": {},
     "output_type": "execute_result"
    }
   ],
   "source": [
    "\n",
    "import scipy.io\n",
    "# Load the .mat file\n",
    "file_path = './EV_Rank_1_52_RBs_50_UEs_1000_snaps.mat'\n",
    "data = scipy.io.loadmat(file_path)\n",
    "\n",
    "# Extract the relevant data\n",
    "EV_data = data['EV_re_im_split']\n",
    "\n",
    "# Check the shape and structure of the extracted data\n",
    "data = EV_data\n",
    "del EV_data\n",
    "data.shape"
   ]
  },
  {
   "cell_type": "code",
   "execution_count": 3,
   "metadata": {},
   "outputs": [
    {
     "name": "stdout",
     "output_type": "stream",
     "text": [
      "Dataset successfully converted and saved as 'flattened_dataset.csv'\n"
     ]
    }
   ],
   "source": [
    "import pandas as pd\n",
    "from datetime import datetime, timedelta\n",
    "\n",
    "# Flatten the dataset\n",
    "# Combine the 50 samples into one long series: shape (50*1000, 832)\n",
    "flattened_data = data.reshape(-1, data.shape[-1])  # shape: (50000, 832)\n",
    "\n",
    "# Create timestamps\n",
    "# Assuming each timestep is one hour apart starting from a base time\n",
    "base_time = datetime(2023, 1, 1)\n",
    "timestamps = [base_time + timedelta(hours=i) for i in range(flattened_data.shape[0])]\n",
    "\n",
    "# Create a DataFrame\n",
    "df = pd.DataFrame(flattened_data, columns=[f'feature_{i}' for i in range(flattened_data.shape[1])])\n",
    "df.insert(0, 'timestamp', timestamps)\n",
    "\n",
    "# Save the DataFrame to a CSV file\n",
    "df.to_csv('flattened_dataset.csv', index=False)\n",
    "\n",
    "print(\"Dataset successfully converted and saved as 'flattened_dataset.csv'\")\n"
   ]
  },
  {
   "cell_type": "code",
   "execution_count": null,
   "metadata": {},
   "outputs": [],
   "source": []
  }
 ],
 "metadata": {
  "kernelspec": {
   "display_name": "base",
   "language": "python",
   "name": "python3"
  },
  "language_info": {
   "codemirror_mode": {
    "name": "ipython",
    "version": 3
   },
   "file_extension": ".py",
   "mimetype": "text/x-python",
   "name": "python",
   "nbconvert_exporter": "python",
   "pygments_lexer": "ipython3",
   "version": "3.11.7"
  }
 },
 "nbformat": 4,
 "nbformat_minor": 2
}
