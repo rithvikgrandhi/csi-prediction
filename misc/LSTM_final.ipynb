{
 "cells": [
  {
   "cell_type": "code",
   "execution_count": 2,
   "metadata": {},
   "outputs": [
    {
     "name": "stdout",
     "output_type": "stream",
     "text": [
      "TensorFlow Version: 2.16.1\n",
      "(50, 1000, 832)\n"
     ]
    }
   ],
   "source": [
    "import scipy.io\n",
    "import numpy as np\n",
    "import tensorflow as tf\n",
    "from sklearn.model_selection import train_test_split\n",
    "from tensorflow.keras.models import Sequential # type: ignore\n",
    "from tensorflow.keras.layers import Dense, LSTM, Dropout, BatchNormalization, Bidirectional, Input # type: ignore\n",
    "from tensorflow.keras.optimizers import Adam, RMSprop  # type: ignore\n",
    "from tensorflow.keras.callbacks import EarlyStopping, ReduceLROnPlateau # type: ignore\n",
    "from tensorflow.keras.regularizers import l2 # type: ignore\n",
    "\n",
    "\n",
    "from sklearn.metrics import mean_squared_error, mean_absolute_error, r2_score\n",
    "print(f\"TensorFlow Version: {tf.__version__}\")\n",
    "\n",
    "# Load the .mat file\n",
    "file_path = '../EV_Rank_1_52_RBs_50_UEs_1000_snaps.mat'\n",
    "data = scipy.io.loadmat(file_path)\n",
    "\n",
    "# Extract the relevant data\n",
    "EV_data = data['EV_re_im_split']\n",
    "data = EV_data\n",
    "del EV_data\n",
    "print(data.shape)"
   ]
  },
  {
   "cell_type": "code",
   "execution_count": 3,
   "metadata": {},
   "outputs": [
    {
     "name": "stdout",
     "output_type": "stream",
     "text": [
      "X shape: (49750, 5, 832), y shape: (49750, 832)\n"
     ]
    }
   ],
   "source": [
    "# Function to create sequences\n",
    "def create_sequences(data, timesteps_in):\n",
    "    X, y = [], []\n",
    "    for ue in data:\n",
    "        for i in range(len(ue) - timesteps_in):\n",
    "            X.append(ue[i:i + timesteps_in])\n",
    "            y.append(ue[i + timesteps_in])\n",
    "    return np.array(X), np.array(y)\n",
    "\n",
    "timesteps_in = 5\n",
    "\n",
    "X, y = create_sequences(data, timesteps_in)\n",
    "print(f'X shape: {X.shape}, y shape: {y.shape}')\n",
    "\n",
    "# Split the data into train and test sets\n",
    "X_train, X_test, y_train, y_test = train_test_split(X, y, test_size=0.2, random_state=42)\n",
    "\n"
   ]
  },
  {
   "cell_type": "code",
   "execution_count": 4,
   "metadata": {},
   "outputs": [
    {
     "data": {
      "text/plain": [
       "((39800, 5, 832), (9950, 5, 832), (39800, 832), (9950, 832))"
      ]
     },
     "execution_count": 4,
     "metadata": {},
     "output_type": "execute_result"
    }
   ],
   "source": [
    "X_train.shape, X_test.shape, y_train.shape, y_test.shape"
   ]
  },
  {
   "cell_type": "code",
   "execution_count": null,
   "metadata": {},
   "outputs": [],
   "source": [
    "# Define a function to create the advanced LSTM model with gradient clipping\n",
    "def create_model(optimizer='adam', dropout_rate=0.2, lstm_units=256, dense_units=512, use_bidirectional=False):\n",
    "    model = Sequential()\n",
    "    model.add(Input(shape=(timesteps_in, X.shape[2])))\n",
    "    if use_bidirectional:\n",
    "        model.add(Bidirectional(LSTM(lstm_units, return_sequences=True)))\n",
    "    else:\n",
    "        model.add(LSTM(lstm_units, return_sequences=True))\n",
    "    model.add(Dropout(dropout_rate))\n",
    "    model.add(BatchNormalization())\n",
    "    \n",
    "    if use_bidirectional:\n",
    "        model.add(Bidirectional(LSTM(lstm_units, return_sequences=True)))\n",
    "    else:\n",
    "        model.add(LSTM(lstm_units, return_sequences=True))\n",
    "    model.add(Dropout(dropout_rate))\n",
    "    model.add(BatchNormalization())\n",
    "    \n",
    "    if use_bidirectional:\n",
    "        model.add(Bidirectional(LSTM(lstm_units)))\n",
    "    else:\n",
    "        model.add(LSTM(lstm_units))\n",
    "    model.add(Dropout(dropout_rate))\n",
    "    model.add(BatchNormalization())\n",
    "    \n",
    "    model.add(Dense(dense_units, activation='relu'))\n",
    "    model.add(Dropout(dropout_rate))\n",
    "    model.add(BatchNormalization())\n",
    "    model.add(Dense(X.shape[2]))\n",
    "    \n",
    "    # Use gradient clipping\n",
    "    if optimizer == 'adam':\n",
    "        optimizer = Adam(clipvalue=1.0)\n",
    "    elif optimizer == 'rmsprop':\n",
    "        optimizer = RMSprop(clipvalue=1.0)\n",
    "\n",
    "    model.compile(optimizer=optimizer, loss='mse')\n",
    "    return model\n",
    "\n"
   ]
  },
  {
   "cell_type": "code",
   "execution_count": null,
   "metadata": {},
   "outputs": [],
   "source": [
    "# #VARIABLES\n",
    "\n",
    "# lstm_units = 256\n",
    "# dense_units = 512\n",
    "# use_bidirectional = False\n",
    "# optimizer = 'adam'\n",
    "\n",
    "# # Best hyperparameters from RandomizedSearchCV\n",
    "# best_params = {\n",
    "#     'optimizer': 'adam',\n",
    "#     'dropout_rate': 0.2,\n",
    "#     'lstm_units': 256,\n",
    "#     'dense_units': 256,\n",
    "#     'batch_size': 64,\n",
    "#     'epochs': 100,\n",
    "#     'use_bidirectional': True\n",
    "# }\n",
    "\n",
    "# Best hyperparameters from RandomizedSearchCV\n",
    "best_params = {\n",
    "\n",
    "    'optimizer': 'adam',\n",
    "    'dropout_rate': 0.2,\n",
    "    'lstm_units': 2048,\n",
    "    'dense_units': 2048,\n",
    "    'batch_size': 256,\n",
    "    'epochs': 100,\n",
    "    'use_bidirectional': True\n",
    "            }\n",
    "\n",
    "# Create and train the best model\n",
    "early_stopping = EarlyStopping(monitor='val_loss', patience=10, restore_best_weights=True)\n",
    "reduce_lr = ReduceLROnPlateau(monitor='val_loss', factor=0.5, patience=5, min_lr=1e-6)\n",
    "\n",
    "model = create_model(\n",
    "    optimizer=best_params['optimizer'],\n",
    "    dropout_rate=best_params['dropout_rate'],\n",
    "    lstm_units=best_params['lstm_units'],\n",
    "    dense_units=best_params['dense_units'],\n",
    "    use_bidirectional=best_params['use_bidirectional']\n",
    ")\n",
    "\n",
    "history = model.fit(\n",
    "    X_train, y_train,\n",
    "    batch_size=best_params['batch_size'],\n",
    "    epochs=best_params['epochs'],\n",
    "    validation_split=0.2,\n",
    "    callbacks=[early_stopping, reduce_lr],\n",
    "    verbose=1)\n"
   ]
  },
  {
   "cell_type": "code",
   "execution_count": null,
   "metadata": {},
   "outputs": [],
   "source": [
    "\n",
    "\n",
    "# Evaluate the model on the test set\n",
    "test_loss = model.evaluate(X_test, y_test, verbose=1)\n",
    "print(f\"Test Loss: {test_loss}\")\n",
    "\n",
    "\n",
    "# Make predictions\n",
    "predictions = model.predict(X_test)\n",
    "\n",
    "# Calculate metrics\n",
    "mse = mean_squared_error(y_test, predictions)\n",
    "mae = mean_absolute_error(y_test, predictions)\n",
    "r2 = r2_score(y_test, predictions)\n",
    "\n",
    "print(f'Mean Squared Error (MSE): {mse}')\n",
    "print(f'Mean Absolute Error (MAE): {mae}')\n",
    "print(f'R-squared (R^2): {r2}')\n",
    "\n",
    "# Mean Squared Error (MSE): 0.007433210159811503\n",
    "# Mean Absolute Error (MAE): 0.062449529734068705\n",
    "# R-squared (R^2): 0.514242911745018\n"
   ]
  }
 ],
 "metadata": {
  "kernelspec": {
   "display_name": "base",
   "language": "python",
   "name": "python3"
  },
  "language_info": {
   "codemirror_mode": {
    "name": "ipython",
    "version": 3
   },
   "file_extension": ".py",
   "mimetype": "text/x-python",
   "name": "python",
   "nbconvert_exporter": "python",
   "pygments_lexer": "ipython3",
   "version": "3.11.7"
  }
 },
 "nbformat": 4,
 "nbformat_minor": 2
}
