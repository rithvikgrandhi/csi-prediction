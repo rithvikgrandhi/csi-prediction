{
 "cells": [
  {
   "cell_type": "code",
   "execution_count": 1,
   "metadata": {},
   "outputs": [
    {
     "name": "stderr",
     "output_type": "stream",
     "text": [
      "2024-05-29 12:49:45.243112: I tensorflow/core/platform/cpu_feature_guard.cc:210] This TensorFlow binary is optimized to use available CPU instructions in performance-critical operations.\n",
      "To enable the following instructions: AVX2 FMA, in other operations, rebuild TensorFlow with the appropriate compiler flags.\n"
     ]
    },
    {
     "name": "stdout",
     "output_type": "stream",
     "text": [
      "TensorFlow Version: 2.16.1\n",
      "(50, 1000, 832)\n"
     ]
    }
   ],
   "source": [
    "import scipy.io\n",
    "import numpy as np\n",
    "import tensorflow as tf\n",
    "from sklearn.model_selection import train_test_split\n",
    "from tensorflow.keras.models import Sequential # type: ignore\n",
    "from tensorflow.keras.layers import Dense, LSTM, Dropout, BatchNormalization, Bidirectional, Input, Reshape # type: ignore\n",
    "from tensorflow.keras.optimizers import Adam, RMSprop  # type: ignore\n",
    "from tensorflow.keras.callbacks import EarlyStopping, ReduceLROnPlateau # type: ignore\n",
    "from tensorflow.keras.regularizers import l2 # type: ignore\n",
    "\n",
    "\n",
    "from sklearn.metrics import mean_squared_error, mean_absolute_error, r2_score\n",
    "print(f\"TensorFlow Version: {tf.__version__}\")\n",
    "\n",
    "# Load the .mat file\n",
    "file_path = '../../EV_Rank_1_52_RBs_50_UEs_1000_snaps.mat'\n",
    "data = scipy.io.loadmat(file_path)\n",
    "\n",
    "# Extract the relevant data\n",
    "EV_data = data['EV_re_im_split']\n",
    "data = EV_data\n",
    "del EV_data\n",
    "print(data.shape)"
   ]
  },
  {
   "cell_type": "code",
   "execution_count": 2,
   "metadata": {},
   "outputs": [
    {
     "name": "stdout",
     "output_type": "stream",
     "text": [
      "X shape: (49300, 10, 832), y shape: (49300, 5, 832)\n"
     ]
    }
   ],
   "source": [
    "# Function to create sequences\n",
    "def create_sequences(data, n_steps_in, n_steps_out):\n",
    "    X, y = [], []\n",
    "    for i in range(data.shape[0]):  # iterate over samples\n",
    "        for j in range(data.shape[1] - n_steps_in - n_steps_out + 1):  # iterate over timesteps\n",
    "            seq_x = data[i, j:j + n_steps_in]\n",
    "            seq_y = data[i, j + n_steps_in:j + n_steps_in + n_steps_out]\n",
    "            X.append(seq_x)\n",
    "            y.append(seq_y)\n",
    "    return np.array(X), np.array(y)\n",
    "\n",
    "\n",
    "timesteps_in = 10\n",
    "\n",
    "X, y = create_sequences(data, timesteps_in,5)\n",
    "print(f'X shape: {X.shape}, y shape: {y.shape}')\n",
    "\n",
    "# Split the data into train and test sets\n",
    "X_train, X_test, y_train, y_test = train_test_split(X, y, test_size=0.2, random_state=42)"
   ]
  },
  {
   "cell_type": "markdown",
   "metadata": {},
   "source": [
    "# Preprocessing"
   ]
  },
  {
   "cell_type": "code",
   "execution_count": 3,
   "metadata": {},
   "outputs": [
    {
     "data": {
      "text/plain": [
       "((39440, 10, 832), (9860, 10, 832), (39440, 5, 832), (9860, 5, 832))"
      ]
     },
     "execution_count": 3,
     "metadata": {},
     "output_type": "execute_result"
    }
   ],
   "source": [
    "X_train.shape, X_test.shape, y_train.shape, y_test.shape"
   ]
  },
  {
   "cell_type": "code",
   "execution_count": 4,
   "metadata": {},
   "outputs": [],
   "source": [
    "# Define a function to create the advanced LSTM model with gradient clipping\n",
    "def create_model(dropout_rate=0.2, lstm_units=256, dense_units=512):\n",
    "    model = Sequential()\n",
    "    model.add(Input(shape=(timesteps_in, 832)))\n",
    "    model.add(Bidirectional(LSTM(lstm_units, return_sequences=True)))\n",
    "    model.add(Dropout(dropout_rate))\n",
    "    model.add(BatchNormalization())\n",
    "    model.add(Bidirectional(LSTM(lstm_units)))\n",
    "    model.add(Dropout(dropout_rate))\n",
    "    model.add(BatchNormalization())\n",
    "    model.add(Dense(dense_units, activation='elu'))\n",
    "    model.add(Dropout(dropout_rate))\n",
    "    model.add(BatchNormalization())\n",
    "    model.add(Dense(832*5, activation='elu'))\n",
    "    model.add(Reshape((5,832)))\n",
    "    \n",
    "    optimizer = Adam(clipvalue=1.0)\n",
    "\n",
    "    model.compile(optimizer=optimizer, loss='mse')\n",
    "    return model\n",
    "\n",
    "\n",
    "# gelu\n",
    "# 309/309 ━━━━━━━━━━━━━━━━━━━━ 1s 4ms/step - loss: 0.0126\n",
    "# Test Loss: 0.012605997733771801\n",
    "# 309/309 ━━━━━━━━━━━━━━━━━━━━ 2s 5ms/step\n",
    "# Mean Squared Error (MSE): 0.012605994747627473\n",
    "# Mean Absolute Error (MAE): 0.0924165528135168\n",
    "# R-squared (R^2): 0.1767418719445527\n",
    "# 124/124 ━━━━━━━━━━━━━━━━━━━━ 3s 22ms/step - loss: 0.0132 - val_loss: 0.0126 - learning_rate: 7.8125e-06\n",
    "\n",
    "\n",
    "# relu\n",
    "# 309/309 ━━━━━━━━━━━━━━━━━━━━ 1s 5ms/step - loss: 0.0141\n",
    "# Test Loss: 0.014148660935461521\n",
    "# 309/309 ━━━━━━━━━━━━━━━━━━━━ 2s 5ms/step\n",
    "# Mean Squared Error (MSE): 0.014148659255275984\n",
    "# Mean Absolute Error (MAE): 0.09911822359734364\n",
    "# R-squared (R^2): 0.0708324295659552\n",
    "# 124/124 ━━━━━━━━━━━━━━━━━━━━ 3s 22ms/step - loss: 0.0145 - val_loss: 0.0142 - learning_rate: 1.0000e-06\n",
    "\n",
    "\n",
    "\n",
    "# # elu\n",
    "# 309/309 ━━━━━━━━━━━━━━━━━━━━ 1s 5ms/step - loss: 0.0124\n",
    "# Test Loss: 0.012479486875236034\n",
    "# 309/309 ━━━━━━━━━━━━━━━━━━━━ 2s 5ms/step\n",
    "# Mean Squared Error (MSE): 0.01247947787391801\n",
    "# Mean Absolute Error (MAE): 0.09178420758552314\n",
    "# R-squared (R^2): 0.18487061241083902\n",
    "# 124/124 ━━━━━━━━━━━━━━━━━━━━ 3s 20ms/step - loss: 0.0131 - val_loss: 0.0125 - learning_rate: 1.0000e-06\n",
    "\n"
   ]
  },
  {
   "cell_type": "code",
   "execution_count": 5,
   "metadata": {},
   "outputs": [
    {
     "name": "stderr",
     "output_type": "stream",
     "text": [
      "2024-05-29 12:49:53.169692: E external/local_xla/xla/stream_executor/cuda/cuda_driver.cc:282] failed call to cuInit: CUDA_ERROR_UNKNOWN: unknown error\n",
      "2024-05-29 12:49:53.169731: I external/local_xla/xla/stream_executor/cuda/cuda_diagnostics.cc:134] retrieving CUDA diagnostic information for host: federatedstuff\n",
      "2024-05-29 12:49:53.169739: I external/local_xla/xla/stream_executor/cuda/cuda_diagnostics.cc:141] hostname: federatedstuff\n",
      "2024-05-29 12:49:53.169828: I external/local_xla/xla/stream_executor/cuda/cuda_diagnostics.cc:165] libcuda reported version is: 550.54.15\n",
      "2024-05-29 12:49:53.169854: I external/local_xla/xla/stream_executor/cuda/cuda_diagnostics.cc:169] kernel reported version is: NOT_FOUND: could not find kernel module information in driver version file contents: \"NVRM version: NVIDIA UNIX Open Kernel Module for x86_64  550.54.15  Release Build  (dvs-builder@U16-A24-23-2)  Tue Mar  5 22:15:33 UTC 2024\n",
      "GCC version:  gcc version 12.3.0 (Ubuntu 12.3.0-1ubuntu1~22.04) \n",
      "\"\n"
     ]
    }
   ],
   "source": [
    "\n",
    "best_params = {\n",
    "\n",
    "    'dropout_rate': 0.2,\n",
    "    'lstm_units': 1024,\n",
    "    'dense_units': 1024,\n",
    "    'batch_size': 256,\n",
    "    'epochs': 250,\n",
    "}\n",
    "\n",
    "# Create and train the best model\n",
    "early_stopping = EarlyStopping(monitor='val_loss', patience=10, restore_best_weights=True)\n",
    "reduce_lr = ReduceLROnPlateau(monitor='val_loss', factor=0.5, patience=5, min_lr=1e-6)\n",
    "\n",
    "model = create_model(\n",
    "    dropout_rate=best_params['dropout_rate'],\n",
    "    lstm_units=best_params['lstm_units'],\n",
    "    dense_units=best_params['dense_units'],\n",
    ")\n",
    "\n"
   ]
  },
  {
   "cell_type": "code",
   "execution_count": 6,
   "metadata": {},
   "outputs": [
    {
     "name": "stderr",
     "output_type": "stream",
     "text": [
      "2024-05-29 12:49:58.968725: W external/local_tsl/tsl/framework/cpu_allocator_impl.cc:83] Allocation of 1050050560 exceeds 10% of free system memory.\n"
     ]
    },
    {
     "name": "stdout",
     "output_type": "stream",
     "text": [
      "Epoch 1/250\n"
     ]
    },
    {
     "name": "stderr",
     "output_type": "stream",
     "text": [
      "2024-05-29 12:50:00.236191: W external/local_tsl/tsl/framework/cpu_allocator_impl.cc:83] Allocation of 525025280 exceeds 10% of free system memory.\n"
     ]
    },
    {
     "name": "stdout",
     "output_type": "stream",
     "text": [
      "\u001b[1m 61/124\u001b[0m \u001b[32m━━━━━━━━━\u001b[0m\u001b[37m━━━━━━━━━━━\u001b[0m \u001b[1m2:56\u001b[0m 3s/step - loss: 0.1202"
     ]
    }
   ],
   "source": [
    "\n",
    "history = model.fit(\n",
    "    X_train, y_train,\n",
    "    batch_size=best_params['batch_size'],\n",
    "    epochs=best_params['epochs'],\n",
    "    validation_split=0.2,\n",
    "    callbacks=[early_stopping, reduce_lr],\n",
    "    verbose=1)"
   ]
  },
  {
   "cell_type": "code",
   "execution_count": null,
   "metadata": {},
   "outputs": [
    {
     "name": "stdout",
     "output_type": "stream",
     "text": [
      "\u001b[1m309/309\u001b[0m \u001b[32m━━━━━━━━━━━━━━━━━━━━\u001b[0m\u001b[37m\u001b[0m \u001b[1m1s\u001b[0m 5ms/step - loss: 0.0124\n",
      "Test Loss: 0.012479486875236034\n",
      "\u001b[1m309/309\u001b[0m \u001b[32m━━━━━━━━━━━━━━━━━━━━\u001b[0m\u001b[37m\u001b[0m \u001b[1m2s\u001b[0m 5ms/step\n",
      "Mean Squared Error (MSE): 0.01247947787391801\n",
      "Mean Absolute Error (MAE): 0.09178420758552314\n",
      "R-squared (R^2): 0.18487061241083902\n"
     ]
    }
   ],
   "source": [
    "test_loss = model.evaluate(X_test, y_test, verbose=1)\n",
    "print(f\"Test Loss: {test_loss}\")\n",
    "\n",
    "predictions = model.predict(X_test)\n",
    "\n",
    "# Flatten y_test and predictions along the first axis\n",
    "y_test_flat = y_test.reshape(-1, y_test.shape[-1])\n",
    "predictions_flat = predictions.reshape(-1, predictions.shape[-1])\n",
    "\n",
    "# Calculate metrics\n",
    "mse = mean_squared_error(y_test_flat, predictions_flat)\n",
    "mae = mean_absolute_error(y_test_flat, predictions_flat)\n",
    "r2 = r2_score(y_test_flat, predictions_flat)\n",
    "\n",
    "print(f'Mean Squared Error (MSE): {mse}')\n",
    "print(f'Mean Absolute Error (MAE): {mae}')\n",
    "print(f'R-squared (R^2): {r2}')"
   ]
  },
  {
   "cell_type": "code",
   "execution_count": null,
   "metadata": {},
   "outputs": [
    {
     "data": {
      "text/html": [
       "<div>\n",
       "<style scoped>\n",
       "    .dataframe tbody tr th:only-of-type {\n",
       "        vertical-align: middle;\n",
       "    }\n",
       "\n",
       "    .dataframe tbody tr th {\n",
       "        vertical-align: top;\n",
       "    }\n",
       "\n",
       "    .dataframe thead th {\n",
       "        text-align: right;\n",
       "    }\n",
       "</style>\n",
       "<table border=\"1\" class=\"dataframe\">\n",
       "  <thead>\n",
       "    <tr style=\"text-align: right;\">\n",
       "      <th></th>\n",
       "      <th>0</th>\n",
       "    </tr>\n",
       "  </thead>\n",
       "  <tbody>\n",
       "    <tr>\n",
       "      <th>-0.119735</th>\n",
       "      <td>-0.026965</td>\n",
       "    </tr>\n",
       "    <tr>\n",
       "      <th>0.088507</th>\n",
       "      <td>-0.012636</td>\n",
       "    </tr>\n",
       "    <tr>\n",
       "      <th>0.167101</th>\n",
       "      <td>0.059234</td>\n",
       "    </tr>\n",
       "    <tr>\n",
       "      <th>-0.147060</th>\n",
       "      <td>-0.073452</td>\n",
       "    </tr>\n",
       "    <tr>\n",
       "      <th>0.073966</th>\n",
       "      <td>-0.043460</td>\n",
       "    </tr>\n",
       "    <tr>\n",
       "      <th>...</th>\n",
       "      <td>...</td>\n",
       "    </tr>\n",
       "    <tr>\n",
       "      <th>-0.163436</th>\n",
       "      <td>-0.064524</td>\n",
       "    </tr>\n",
       "    <tr>\n",
       "      <th>-0.107874</th>\n",
       "      <td>0.040137</td>\n",
       "    </tr>\n",
       "    <tr>\n",
       "      <th>0.058618</th>\n",
       "      <td>-0.048976</td>\n",
       "    </tr>\n",
       "    <tr>\n",
       "      <th>-0.078371</th>\n",
       "      <td>-0.078766</td>\n",
       "    </tr>\n",
       "    <tr>\n",
       "      <th>0.129386</th>\n",
       "      <td>0.081114</td>\n",
       "    </tr>\n",
       "  </tbody>\n",
       "</table>\n",
       "<p>832 rows × 1 columns</p>\n",
       "</div>"
      ],
      "text/plain": [
       "                  0\n",
       "-0.119735 -0.026965\n",
       " 0.088507 -0.012636\n",
       " 0.167101  0.059234\n",
       "-0.147060 -0.073452\n",
       " 0.073966 -0.043460\n",
       "...             ...\n",
       "-0.163436 -0.064524\n",
       "-0.107874  0.040137\n",
       " 0.058618 -0.048976\n",
       "-0.078371 -0.078766\n",
       " 0.129386  0.081114\n",
       "\n",
       "[832 rows x 1 columns]"
      ]
     },
     "execution_count": 8,
     "metadata": {},
     "output_type": "execute_result"
    }
   ],
   "source": [
    "import pandas as pd\n",
    "ue = 100\n",
    "ts = 1\n",
    "pd.DataFrame(predictions[ue][ts],y_test[ue][ts])"
   ]
  },
  {
   "cell_type": "code",
   "execution_count": null,
   "metadata": {},
   "outputs": [],
   "source": []
  }
 ],
 "metadata": {
  "kernelspec": {
   "display_name": "base",
   "language": "python",
   "name": "python3"
  },
  "language_info": {
   "codemirror_mode": {
    "name": "ipython",
    "version": 3
   },
   "file_extension": ".py",
   "mimetype": "text/x-python",
   "name": "python",
   "nbconvert_exporter": "python",
   "pygments_lexer": "ipython3",
   "version": "3.11.7"
  }
 },
 "nbformat": 4,
 "nbformat_minor": 2
}
