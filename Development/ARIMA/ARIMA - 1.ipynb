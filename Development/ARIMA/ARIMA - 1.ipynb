{
 "cells": [
  {
   "cell_type": "code",
   "execution_count": 1,
   "metadata": {},
   "outputs": [],
   "source": [
    "import numpy as np\n",
    "df=np.load(\"/Users/rohitviswam/Downloads/CSI-02-0005/H_32T4R_30_1RB.npy\")\n",
    "data=df.reshape(2100,398,256)\n",
    "data.shape\n",
    "feature_len=data.shape[-1]"
   ]
  },
  {
   "cell_type": "code",
   "execution_count": 2,
   "metadata": {},
   "outputs": [
    {
     "data": {
      "text/plain": [
       "(2100, 398, 256)"
      ]
     },
     "execution_count": 2,
     "metadata": {},
     "output_type": "execute_result"
    }
   ],
   "source": [
    "data.shape"
   ]
  },
  {
   "cell_type": "code",
   "execution_count": 3,
   "metadata": {},
   "outputs": [],
   "source": [
    "import numpy as np\n",
    "import xgboost as xgb\n",
    "from sklearn.model_selection import train_test_split\n",
    "from sklearn.metrics import mean_squared_error"
   ]
  },
  {
   "cell_type": "code",
   "execution_count": 4,
   "metadata": {},
   "outputs": [],
   "source": [
    "data_flattened = data.reshape(data.shape[0], -1)  # shape becomes (2100, 398*256)\n"
   ]
  },
  {
   "cell_type": "code",
   "execution_count": 5,
   "metadata": {},
   "outputs": [],
   "source": [
    "data = data_flattened"
   ]
  },
  {
   "cell_type": "code",
   "execution_count": 6,
   "metadata": {},
   "outputs": [],
   "source": [
    "import numpy as np\n",
    "\n",
    "# Assuming `data` is already loaded as a numpy array with shape (2100, 101888)\n",
    "num_UEs = data.shape[0]\n",
    "num_time_steps = data.shape[1]\n",
    "input_length = 10\n",
    "\n",
    "# Prepare lists to hold the input-output pairs for each UE\n",
    "all_inputs = []\n",
    "all_targets = []\n",
    "\n",
    "# Iterate through each UE\n",
    "for ue_idx in range(num_UEs):\n",
    "    ue_data = data[ue_idx]\n",
    "\n",
    "    ue_inputs = []\n",
    "    ue_targets = []\n",
    "\n",
    "    # Generate input-target pairs\n",
    "    for start_idx in range(num_time_steps - input_length):\n",
    "        end_idx = start_idx + input_length\n",
    "        input_seq = ue_data[start_idx:end_idx]\n",
    "        target_value = ue_data[end_idx]\n",
    "\n",
    "        ue_inputs.append(input_seq)\n",
    "        ue_targets.append(target_value)\n",
    "\n",
    "    # Convert lists to numpy arrays and add to the main lists\n",
    "    all_inputs.append(np.array(ue_inputs))\n",
    "    all_targets.append(np.array(ue_targets))\n",
    "\n",
    "# Now `all_inputs` and `all_targets` will each be lists containing numpy arrays of inputs and targets for each UE\n"
   ]
  },
  {
   "cell_type": "code",
   "execution_count": null,
   "metadata": {},
   "outputs": [],
   "source": [
    "import numpy as np\n",
    "import matplotlib.pyplot as plt\n",
    "import seaborn as sns\n",
    "import random\n",
    "\n",
    "# Assuming `data` is already loaded as a numpy array with shape (2100, 101888)\n",
    "num_UEs = data.shape[0]\n",
    "num_time_steps = data.shape[1]\n",
    "\n",
    "# Set the number of samples to analyze\n",
    "num_samples_to_plot = 5\n",
    "\n",
    "# Choose random UEs to visualize\n",
    "random_indices = random.sample(range(num_UEs), num_samples_to_plot)\n",
    "\n",
    "# Visualize the time series data of a few UEs\n",
    "fig, axs = plt.subplots(num_samples_to_plot, 1, figsize=(12, 18), sharex=True)\n",
    "for i, idx in enumerate(random_indices):\n",
    "    axs[i].plot(data[idx, :], label=f'UE {idx}')\n",
    "    axs[i].set_title(f'Time Series Data for UE {idx}')\n",
    "    axs[i].set_xlabel('Time Step')\n",
    "    axs[i].set_ylabel('Value')\n",
    "    axs[i].legend()\n",
    "plt.tight_layout()\n",
    "plt.show()\n",
    "\n",
    "# Plot the distribution of values across all UEs\n",
    "flat_data = data.flatten()\n",
    "plt.figure(figsize=(10, 6))\n",
    "sns.histplot(flat_data, bins=50, kde=True)\n",
    "plt.title('Distribution of All Values')\n",
    "plt.xlabel('Value')\n",
    "plt.ylabel('Frequency')\n",
    "plt.show()\n",
    "\n",
    "# Plot the mean and variance for each UE\n",
    "mean_values = np.mean(data, axis=1)\n",
    "var_values = np.var(data, axis=1)\n",
    "\n",
    "plt.figure(figsize=(10, 6))\n",
    "plt.subplot(2, 1, 1)\n",
    "plt.plot(mean_values, 'o-')\n",
    "plt.title('Mean Value per UE')\n",
    "plt.xlabel('UE Index')\n",
    "plt.ylabel('Mean Value')\n",
    "\n",
    "plt.subplot(2, 1, 2)\n",
    "plt.plot(var_values, 'o-')\n",
    "plt.title('Variance per UE')\n",
    "plt.xlabel('UE Index')\n",
    "plt.ylabel('Variance')\n",
    "plt.tight_layout()\n",
    "plt.show()\n",
    "\n",
    "# Analyze autocorrelation of a random UE\n",
    "from pandas.plotting import autocorrelation_plot\n",
    "\n",
    "random_ue = random.choice(range(num_UEs))\n",
    "plt.figure(figsize=(10, 6))\n",
    "autocorrelation_plot(data[random_ue, :])\n",
    "plt.title(f'Autocorrelation for UE {random_ue}')\n",
    "plt.xlabel('Lag')\n",
    "plt.ylabel('Autocorrelation')\n",
    "plt.show()\n"
   ]
  },
  {
   "cell_type": "code",
   "execution_count": 18,
   "metadata": {},
   "outputs": [
    {
     "name": "stderr",
     "output_type": "stream",
     "text": [
      "Processing UEs:   0%|          | 0/2100 [00:06<?, ?UE/s]"
     ]
    },
    {
     "name": "stdout",
     "output_type": "stream",
     "text": [
      "UE 0: Progress 0.0%\n"
     ]
    }
   ],
   "source": [
    "import numpy as np\n",
    "from statsmodels.tsa.arima.model import ARIMA\n",
    "from sklearn.metrics import mean_squared_error\n",
    "from tqdm import tqdm\n",
    "\n",
    "# Assuming data has shape (2100, 101888), where the first 10 values are inputs and the 11th value is the target\n",
    "num_UEs = data.shape[0]\n",
    "input_length = 10\n",
    "\n",
    "# Simplified ARIMA order for faster training\n",
    "arima_order = (1, 0, 1)  # Example: p=1, d=0, q=1\n",
    "\n",
    "# Lists to store evaluation results\n",
    "mse_results = []\n",
    "\n",
    "# Progress bar for all UEs\n",
    "for ue_idx in tqdm(range(num_UEs), desc=\"Processing UEs\", unit=\"UE\"):\n",
    "    ue_data = data[ue_idx]\n",
    "\n",
    "    # Split into training (80%) and testing (20%) sets\n",
    "    split_idx = int(0.8 * len(ue_data))\n",
    "    train_data = ue_data[:split_idx]\n",
    "    test_data = ue_data[split_idx:]\n",
    "\n",
    "    # Initialize variables to store predictions\n",
    "    history = list(train_data)\n",
    "    predictions = []\n",
    "\n",
    "    # Process predictions in each UE\n",
    "    for t in range(len(test_data)):\n",
    "        # Define ARIMA model with the simplified order\n",
    "        model = ARIMA(history, order=arima_order)\n",
    "        model_fit = model.fit()\n",
    "\n",
    "        # Forecast the next value\n",
    "        forecast = model_fit.forecast()[0]\n",
    "        predictions.append(forecast)\n",
    "\n",
    "        # Add actual value to history\n",
    "        history.append(test_data[t])\n",
    "\n",
    "        # Optionally, print progress every 10% to see where we are\n",
    "        if t % (len(test_data) // 10 + 1) == 0:\n",
    "            tqdm.write(f'UE {ue_idx}: Progress {t / len(test_data) * 100:.1f}%')\n",
    "\n",
    "    # Calculate mean squared error for this UE\n",
    "    mse = mean_squared_error(test_data, predictions)\n",
    "    mse_results.append(mse)\n",
    "    tqdm.write(f'UE {ue_idx}: Mean Squared Error = {mse:.3f}')\n",
    "\n",
    "# Output average MSE across all UEs\n",
    "average_mse = np.mean(mse_results)\n",
    "print(f'Average Mean Squared Error across all UEs: {average_mse:.3f}')"
   ]
  },
  {
   "cell_type": "code",
   "execution_count": null,
   "metadata": {},
   "outputs": [],
   "source": [
    "import pandas as pd\n",
    "\n",
    "# Function to tabulate actual and predicted values for one UE\n",
    "def tabulate_predictions(ue_idx):\n",
    "    ue_data = data[ue_idx]\n",
    "    split_idx = int(0.8 * len(ue_data))\n",
    "    train_data = ue_data[:split_idx]\n",
    "    test_data = ue_data[split_idx:]\n",
    "\n",
    "    # Initialize history from training data\n",
    "    history = list(train_data)\n",
    "    predictions = []\n",
    "\n",
    "    # Train and forecast for each test point\n",
    "    for t in range(len(test_data)):\n",
    "        model = ARIMA(history, order=(1, 0, 1))\n",
    "        model_fit = model.fit()\n",
    "\n",
    "        # Forecast the next value\n",
    "        forecast = model_fit.forecast()[0]\n",
    "        predictions.append(forecast)\n",
    "\n",
    "        # Add actual value to history\n",
    "        history.append(test_data[t])\n",
    "\n",
    "    # Create a DataFrame to compare actual and predicted values\n",
    "    results_df = pd.DataFrame({\n",
    "        'Actual': test_data,\n",
    "        'Predicted': predictions\n",
    "    })\n",
    "\n",
    "    return results_df\n",
    "\n",
    "# Example usage for a single UE (replace `0` with a specific UE index to inspect)\n",
    "ue_idx_to_inspect = 0\n",
    "predictions_table = tabulate_predictions(ue_idx_to_inspect)\n",
    "\n",
    "# Display the first few rows of the predictions table\n",
    "print(predictions_table.head())\n"
   ]
  },
  {
   "cell_type": "code",
   "execution_count": null,
   "metadata": {},
   "outputs": [],
   "source": [
    "import matplotlib.pyplot as plt\n",
    "\n",
    "# Function to visualize the actual and predicted values for one UE\n",
    "def visualize_predictions(ue_idx):\n",
    "    ue_data = data[ue_idx]\n",
    "    split_idx = int(0.8 * len(ue_data))\n",
    "    train_data = ue_data[:split_idx]\n",
    "    test_data = ue_data[split_idx:]\n",
    "\n",
    "    # Initialize history from training data\n",
    "    history = list(train_data)\n",
    "    predictions = []\n",
    "\n",
    "    # Train and forecast for each test point\n",
    "    for t in range(len(test_data)):\n",
    "        model = ARIMA(history, order=(1, 0, 1))\n",
    "        model_fit = model.fit()\n",
    "\n",
    "        # Forecast the next value\n",
    "        forecast = model_fit.forecast()[0]\n",
    "        predictions.append(forecast)\n",
    "\n",
    "        # Add actual value to history\n",
    "        history.append(test_data[t])\n",
    "\n",
    "    # Plot the actual and predicted values\n",
    "    plt.figure(figsize=(10, 6))\n",
    "    plt.plot(test_data, label='Actual', marker='o', linestyle='--')\n",
    "    plt.plot(predictions, label='Predicted', marker='x', linestyle='-')\n",
    "    plt.title(f'UE {ue_idx}: Actual vs. Predicted')\n",
    "    plt.xlabel('Time Step')\n",
    "    plt.ylabel('Value')\n",
    "    plt.legend()\n",
    "    plt.grid(True)\n",
    "    plt.show()"
   ]
  },
  {
   "cell_type": "code",
   "execution_count": null,
   "metadata": {},
   "outputs": [],
   "source": [
    "# Example usage for a single UE (replace `0` with a specific UE index to visualize)\n",
    "visualize_predictions(0)"
   ]
  }
 ],
 "metadata": {
  "kernelspec": {
   "display_name": "base",
   "language": "python",
   "name": "python3"
  },
  "language_info": {
   "codemirror_mode": {
    "name": "ipython",
    "version": 3
   },
   "file_extension": ".py",
   "mimetype": "text/x-python",
   "name": "python",
   "nbconvert_exporter": "python",
   "pygments_lexer": "ipython3",
   "version": "3.11.3"
  }
 },
 "nbformat": 4,
 "nbformat_minor": 2
}
