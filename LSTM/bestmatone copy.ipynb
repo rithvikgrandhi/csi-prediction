{
 "cells": [
  {
   "cell_type": "code",
   "execution_count": 1,
   "metadata": {},
   "outputs": [],
   "source": [
    "import torch\n",
    "import pandas as pd\n",
    "import numpy as np\n",
    "import tensorflow as tf"
   ]
  },
  {
   "cell_type": "code",
   "execution_count": 2,
   "metadata": {},
   "outputs": [],
   "source": [
    "# data=np.load(\"CSI-02-0006/UMA4Rx32Tx5Ms8RB30km.npy\")\n",
    "# new_shape = (21000, 20, 2 * 32 * 4 * 8)\n",
    "# data = data.reshape(new_shape)"
   ]
  },
  {
   "cell_type": "code",
   "execution_count": 30,
   "metadata": {},
   "outputs": [
    {
     "data": {
      "text/plain": [
       "dict_keys(['__header__', '__version__', '__globals__', 'EV_re_im_split'])"
      ]
     },
     "execution_count": 30,
     "metadata": {},
     "output_type": "execute_result"
    }
   ],
   "source": [
    "import scipy.io\n",
    "import numpy as np\n",
    "\n",
    "# Load the .mat file\n",
    "file_path = '/Users/rohitviswam/Desktop/IITM Mat file/EV_Rank_1_52_RBs_50_UEs_1000_snaps.mat'\n",
    "data = scipy.io.loadmat(file_path)\n",
    "\n",
    "# Inspect the structure of the loaded data\n",
    "data.keys()\n"
   ]
  },
  {
   "cell_type": "code",
   "execution_count": 8,
   "metadata": {},
   "outputs": [
    {
     "name": "stdout",
     "output_type": "stream",
     "text": [
      "(50, 1000, 832)\n",
      "[[[ 0.0065606  -0.0152262   0.13096477 ...  0.02899665  0.11794486\n",
      "    0.25200583]\n",
      "  [-0.01473732  0.00845132  0.06896454 ...  0.08472115  0.08268961\n",
      "    0.22304207]\n",
      "  [-0.05422704  0.06404326 -0.00654457 ...  0.12695812  0.04581619\n",
      "    0.16514315]\n",
      "  ...\n",
      "  [-0.02008673 -0.14001042  0.06337543 ... -0.00231407 -0.10592777\n",
      "   -0.21425496]\n",
      "  [ 0.00439956 -0.03413185  0.10111613 ... -0.08517482 -0.10987831\n",
      "   -0.21231851]\n",
      "  [-0.04831986 -0.05925934 -0.11068568 ... -0.16147347 -0.08111315\n",
      "   -0.18327848]]\n",
      "\n",
      " [[-0.23827784  0.2376434  -0.06625487 ... -0.03778057  0.02764941\n",
      "    0.09164511]\n",
      "  [ 0.22122497 -0.30016141  0.11078326 ...  0.07296581 -0.02914352\n",
      "   -0.08597792]\n",
      "  [ 0.11609402 -0.3316893   0.10612199 ...  0.08964571 -0.01920574\n",
      "   -0.06373712]\n",
      "  ...\n",
      "  [ 0.04362871 -0.01683385  0.07379465 ...  0.0160521  -0.16721578\n",
      "    0.14672768]\n",
      "  [-0.10985715  0.12080151 -0.00612115 ...  0.096215   -0.12333504\n",
      "    0.08999272]\n",
      "  [-0.15891021  0.20262143  0.06144002 ...  0.15320253 -0.05719224\n",
      "    0.01556242]]\n",
      "\n",
      " [[ 0.15884347 -0.35568392  0.06396903 ... -0.19514035 -0.11967362\n",
      "    0.22949002]\n",
      "  [-0.1037659   0.05288234  0.30129541 ... -0.15264441 -0.05122016\n",
      "    0.14517887]\n",
      "  [-0.36482106  0.22190418  0.01537972 ... -0.07094306  0.04158818\n",
      "    0.01486365]\n",
      "  ...\n",
      "  [-0.1821534  -0.07194613  0.14246263 ... -0.03883555 -0.02667105\n",
      "   -0.00628246]\n",
      "  [-0.09615455 -0.07951617  0.21907505 ... -0.05033358  0.10504095\n",
      "    0.00491578]\n",
      "  [ 0.01030964 -0.06846653  0.24536725 ... -0.05093516  0.21287632\n",
      "    0.01934184]]\n",
      "\n",
      " ...\n",
      "\n",
      " [[-0.10776281 -0.11854978 -0.14703928 ... -0.230106    0.06842583\n",
      "    0.0353805 ]\n",
      "  [-0.03033501 -0.02808713 -0.16049423 ... -0.19743778  0.01465563\n",
      "   -0.04977697]\n",
      "  [-0.06146059 -0.06169057  0.12913998 ... -0.15637973 -0.07682236\n",
      "   -0.1017554 ]\n",
      "  ...\n",
      "  [-0.05576179 -0.16302258 -0.04498384 ...  0.12709256 -0.02152596\n",
      "   -0.07604384]\n",
      "  [-0.0142025   0.09553788  0.07746806 ...  0.15185759  0.01586457\n",
      "   -0.05667085]\n",
      "  [-0.05082157  0.10967996 -0.00360352 ...  0.02358603 -0.08794486\n",
      "    0.09786169]]\n",
      "\n",
      " [[-0.168098   -0.20344295 -0.13529012 ... -0.26611451 -0.18396476\n",
      "   -0.18005799]\n",
      "  [-0.17744203 -0.20652534 -0.16090308 ... -0.26373871 -0.1857318\n",
      "   -0.18422116]\n",
      "  [-0.18596676 -0.20633001 -0.18505564 ... -0.25548298 -0.18279537\n",
      "   -0.18539255]\n",
      "  ...\n",
      "  [-0.04921261 -0.04480231 -0.01963826 ...  0.14288768  0.17695973\n",
      "    0.17616231]\n",
      "  [-0.10784067 -0.10590281 -0.08410167 ...  0.08397169  0.12682677\n",
      "    0.12492685]\n",
      "  [-0.14794845 -0.14835796 -0.13474301 ...  0.01376547  0.05928569\n",
      "    0.05654518]]\n",
      "\n",
      " [[-0.19955098  0.1608427   0.13470411 ...  0.11626518 -0.05579388\n",
      "    0.03364476]\n",
      "  [ 0.21379554 -0.18465111 -0.03820975 ...  0.06421075 -0.1213946\n",
      "    0.09450531]\n",
      "  [ 0.17851356 -0.16346337  0.06174613 ... -0.00556033 -0.15923864\n",
      "    0.12922066]\n",
      "  ...\n",
      "  [ 0.08395614 -0.01863033  0.10806261 ... -0.08108189 -0.10817387\n",
      "    0.17138814]\n",
      "  [-0.03230449  0.10873831  0.14155541 ... -0.14521513 -0.1398006\n",
      "    0.13692422]\n",
      "  [-0.1143439   0.16752383  0.08211351 ... -0.19982643 -0.12232632\n",
      "    0.0287816 ]]]\n"
     ]
    }
   ],
   "source": [
    "# Extract the relevant data\n",
    "EV_data = data['EV_re_im_split']\n",
    "\n",
    "# Check the shape and structure of the extracted data\n",
    "print(EV_data.shape)\n",
    "print(EV_data)"
   ]
  },
  {
   "cell_type": "code",
   "execution_count": 9,
   "metadata": {},
   "outputs": [],
   "source": [
    "data = EV_data"
   ]
  },
  {
   "cell_type": "code",
   "execution_count": 10,
   "metadata": {},
   "outputs": [
    {
     "data": {
      "text/plain": [
       "(50, 1000, 832)"
      ]
     },
     "execution_count": 10,
     "metadata": {},
     "output_type": "execute_result"
    }
   ],
   "source": [
    "data.shape"
   ]
  },
  {
   "cell_type": "code",
   "execution_count": 11,
   "metadata": {},
   "outputs": [],
   "source": [
    "X = data[:, :-1, :]  # Use all time steps except the last as input\n",
    "y = data[:, -1, :]   # Use the last time step as the target"
   ]
  },
  {
   "cell_type": "code",
   "execution_count": 12,
   "metadata": {},
   "outputs": [],
   "source": [
    "from sklearn.model_selection import train_test_split\n",
    "\n",
    "X_train, X_test, y_train, y_test = train_test_split(X, y, test_size=0.2, random_state=42)\n",
    "\n",
    "# Normalize features\n",
    "# Reshape the data for normalization: (num_samples * num_timesteps, num_features)\n",
    "num_samples, num_timesteps, num_features = X_train.shape\n",
    "X_train_reshaped = X_train.reshape(-1, num_features)\n",
    "X_test_reshaped = X_test.reshape(-1, num_features)\n",
    "\n"
   ]
  },
  {
   "cell_type": "code",
   "execution_count": 13,
   "metadata": {},
   "outputs": [],
   "source": [
    "from sklearn.preprocessing import StandardScaler\n",
    "\n",
    "# Initialize the StandardScaler\n",
    "scaler = StandardScaler()\n",
    "\n",
    "# Fit on training data and transform both train and test sets\n",
    "X_train_normalized = scaler.fit_transform(X_train_reshaped)\n",
    "X_test_normalized = scaler.transform(X_test_reshaped)\n",
    "\n"
   ]
  },
  {
   "cell_type": "code",
   "execution_count": 14,
   "metadata": {},
   "outputs": [],
   "source": [
    "# Reshape the data back to original (21000, 19, 2048)\n",
    "X_train = X_train_normalized.reshape(num_samples, num_timesteps, num_features)\n",
    "X_test = X_test_normalized.reshape(X_test.shape[0], num_timesteps, num_features)"
   ]
  },
  {
   "cell_type": "code",
   "execution_count": 15,
   "metadata": {},
   "outputs": [
    {
     "data": {
      "text/plain": [
       "((40, 999, 832), (10, 999, 832), (40, 832), (10, 832))"
      ]
     },
     "execution_count": 15,
     "metadata": {},
     "output_type": "execute_result"
    }
   ],
   "source": [
    "X_train.shape, X_test.shape,y_train.shape,y_test.shape"
   ]
  },
  {
   "cell_type": "code",
   "execution_count": 18,
   "metadata": {},
   "outputs": [
    {
     "name": "stdout",
     "output_type": "stream",
     "text": [
      "Epoch 1/10\n",
      "\u001b[1m1/1\u001b[0m \u001b[32m━━━━━━━━━━━━━━━━━━━━\u001b[0m\u001b[37m\u001b[0m \u001b[1m2s\u001b[0m 2s/step - loss: 0.0182 - val_loss: 0.0184\n",
      "Epoch 2/10\n",
      "\u001b[1m1/1\u001b[0m \u001b[32m━━━━━━━━━━━━━━━━━━━━\u001b[0m\u001b[37m\u001b[0m \u001b[1m1s\u001b[0m 1s/step - loss: 0.0169 - val_loss: 0.0183\n",
      "Epoch 3/10\n",
      "\u001b[1m1/1\u001b[0m \u001b[32m━━━━━━━━━━━━━━━━━━━━\u001b[0m\u001b[37m\u001b[0m \u001b[1m1s\u001b[0m 1s/step - loss: 0.0162 - val_loss: 0.0183\n",
      "Epoch 4/10\n",
      "\u001b[1m1/1\u001b[0m \u001b[32m━━━━━━━━━━━━━━━━━━━━\u001b[0m\u001b[37m\u001b[0m \u001b[1m1s\u001b[0m 1s/step - loss: 0.0157 - val_loss: 0.0182\n",
      "Epoch 5/10\n",
      "\u001b[1m1/1\u001b[0m \u001b[32m━━━━━━━━━━━━━━━━━━━━\u001b[0m\u001b[37m\u001b[0m \u001b[1m1s\u001b[0m 1s/step - loss: 0.0154 - val_loss: 0.0182\n",
      "Epoch 6/10\n",
      "\u001b[1m1/1\u001b[0m \u001b[32m━━━━━━━━━━━━━━━━━━━━\u001b[0m\u001b[37m\u001b[0m \u001b[1m1s\u001b[0m 1s/step - loss: 0.0151 - val_loss: 0.0182\n",
      "Epoch 7/10\n",
      "\u001b[1m1/1\u001b[0m \u001b[32m━━━━━━━━━━━━━━━━━━━━\u001b[0m\u001b[37m\u001b[0m \u001b[1m1s\u001b[0m 1s/step - loss: 0.0149 - val_loss: 0.0182\n",
      "Epoch 8/10\n",
      "\u001b[1m1/1\u001b[0m \u001b[32m━━━━━━━━━━━━━━━━━━━━\u001b[0m\u001b[37m\u001b[0m \u001b[1m1s\u001b[0m 1s/step - loss: 0.0147 - val_loss: 0.0182\n",
      "Epoch 9/10\n",
      "\u001b[1m1/1\u001b[0m \u001b[32m━━━━━━━━━━━━━━━━━━━━\u001b[0m\u001b[37m\u001b[0m \u001b[1m1s\u001b[0m 1s/step - loss: 0.0146 - val_loss: 0.0182\n",
      "Epoch 10/10\n",
      "\u001b[1m1/1\u001b[0m \u001b[32m━━━━━━━━━━━━━━━━━━━━\u001b[0m\u001b[37m\u001b[0m \u001b[1m1s\u001b[0m 1s/step - loss: 0.0144 - val_loss: 0.0182\n"
     ]
    },
    {
     "data": {
      "text/plain": [
       "<keras.src.callbacks.history.History at 0x3d38c5e50>"
      ]
     },
     "execution_count": 18,
     "metadata": {},
     "output_type": "execute_result"
    }
   ],
   "source": [
    "from keras.models import Sequential\n",
    "from keras.layers import LSTM, Dense\n",
    "import numpy as np\n",
    "\n",
    "# Assuming you have already prepared and split your data into X_train, X_test, y_train, y_test\n",
    "# and your data is normalized as shown in the previous messages\n",
    "\n",
    "# Model architecture\n",
    "model = Sequential()\n",
    "model.add(LSTM(50, return_sequences=True, input_shape=(X_train.shape[1], X_train.shape[2])))\n",
    "model.add(LSTM(50))\n",
    "model.add(Dense(832))  # Assuming you are predicting 2048 features at the next time step\n",
    "\n",
    "# Compile the model\n",
    "model.compile(optimizer='adam', loss='mean_squared_error')\n",
    "\n",
    "# Train the model\n",
    "model.fit(X_train, y_train, epochs=10, batch_size=64, validation_split=0.1)\n"
   ]
  },
  {
   "cell_type": "code",
   "execution_count": 19,
   "metadata": {},
   "outputs": [
    {
     "name": "stdout",
     "output_type": "stream",
     "text": [
      "\u001b[1m1/1\u001b[0m \u001b[32m━━━━━━━━━━━━━━━━━━━━\u001b[0m\u001b[37m\u001b[0m \u001b[1m0s\u001b[0m 298ms/step\n",
      "Mean Squared Error (MSE): 0.017355442812477844\n",
      "Root Mean Squared Error (RMSE): 0.1317400577367334\n",
      "Mean Absolute Error (MAE): 0.11090954786850539\n"
     ]
    }
   ],
   "source": [
    "from sklearn.metrics import mean_squared_error, mean_absolute_error\n",
    "\n",
    "# Make predictions\n",
    "predictions = model.predict(X_test)\n",
    "\n",
    "# Calculate MSE and RMSE\n",
    "mse = mean_squared_error(y_test, predictions)\n",
    "rmse = np.sqrt(mse) \n",
    "\n",
    "# Calculate MAE\n",
    "mae = mean_absolute_error(y_test, predictions)\n",
    "\n",
    "print(\"Mean Squared Error (MSE):\", mse)\n",
    "print(\"Root Mean Squared Error (RMSE):\", rmse)\n",
    "print(\"Mean Absolute Error (MAE):\", mae)\n"
   ]
  },
  {
   "cell_type": "code",
   "execution_count": 27,
   "metadata": {},
   "outputs": [
    {
     "data": {
      "image/png": "[encoded data removed]",
      "text/plain": [
       "<Figure size 1000x600 with 1 Axes>"
      ]
     },
     "metadata": {},
     "output_type": "display_data"
    }
   ],
   "source": [
    "import matplotlib.pyplot as plt\n",
    "\n",
    "feature=800\n",
    "# Example: Plotting the actual vs predicted values for the first feature across all time steps in the test set\n",
    "plt.figure(figsize=(10, 6))\n",
    "plt.plot(y_test[:100, feature], label='Actual')\n",
    "plt.plot(predictions[:100, feature], label='Predicted')\n",
    "plt.title('Comparison of Actual and Predicted Values')\n",
    "plt.xlabel('Time Step')\n",
    "plt.ylabel('Feature Value')\n",
    "plt.legend()\n",
    "plt.show()\n"
   ]
  },
  {
   "cell_type": "code",
   "execution_count": 28,
   "metadata": {},
   "outputs": [
    {
     "name": "stdout",
     "output_type": "stream",
     "text": [
      "Mean R^2 Score: -0.31194594175914\n"
     ]
    }
   ],
   "source": [
    "from sklearn.metrics import r2_score\n",
    "\n",
    "# Calculate R^2 for each feature\n",
    "r2_scores = [r2_score(y_test[:, i], predictions[:, i]) for i in range(y_test.shape[1])]\n",
    "\n",
    "# Calculate the mean R^2 score across all features for an overall performance metric\n",
    "mean_r2_score = np.mean(r2_scores)\n",
    "\n",
    "print(\"Mean R^2 Score:\", mean_r2_score)\n"
   ]
  },
  {
   "cell_type": "code",
   "execution_count": 29,
   "metadata": {},
   "outputs": [
    {
     "name": "stdout",
     "output_type": "stream",
     "text": [
      "Overall 'accuracy': 1.94%\n"
     ]
    }
   ],
   "source": [
    "# Assuming `predictions` are your model's predictions and `y_test` are the actual values\n",
    "\n",
    "# Calculate the absolute percentage error for each prediction\n",
    "percentage_errors = np.abs((predictions - y_test) / y_test) * 100\n",
    "\n",
    "# Define the threshold for an accurate prediction (e.g., error within 10%)\n",
    "accuracy_threshold = 10  # 10%\n",
    "\n",
    "# Calculate the percentage of predictions that are within the accuracy threshold\n",
    "accurate_predictions = np.sum(percentage_errors < accuracy_threshold, axis=1) / y_test.shape[1]\n",
    "overall_accuracy = np.mean(accurate_predictions) * 100\n",
    "\n",
    "print(f\"Overall 'accuracy': {overall_accuracy:.2f}%\")"
   ]
  },
  {
   "cell_type": "code",
   "execution_count": null,
   "metadata": {},
   "outputs": [],
   "source": []
  }
 ],
 "metadata": {
  "kernelspec": {
   "display_name": "csi",
   "language": "python",
   "name": "python3"
  },
  "language_info": {
   "codemirror_mode": {
    "name": "ipython",
    "version": 3
   },
   "file_extension": ".py",
   "mimetype": "text/x-python",
   "name": "python",
   "nbconvert_exporter": "python",
   "pygments_lexer": "ipython3",
   "version": "3.11.3"
  }
 },
 "nbformat": 4,
 "nbformat_minor": 2
}
